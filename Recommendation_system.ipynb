{
  "nbformat": 4,
  "nbformat_minor": 0,
  "metadata": {
    "colab": {
      "provenance": [],
      "toc_visible": true
    },
    "kernelspec": {
      "name": "python3",
      "display_name": "Python 3"
    },
    "language_info": {
      "name": "python"
    }
  },
  "cells": [
    {
      "cell_type": "markdown",
      "source": [
        "# Collaborative Filtering\n",
        "Collaborative Filtering (CF) is a popular technique used in recommender systems. It makes recommendations by looking at the interactions between users and items, such as clicks, views, or ratings.\n",
        "\n",
        "The main idea behind collaborative filtering is simple: Users who have interacted with the same items in the past are likely to have similar preferences. For example:\n",
        "\n",
        "* If two users both clicked on the same news articles,\n",
        "\n",
        "* and one of them clicked on a new article,\n",
        "\n",
        "* we can recommend that new article to the other user.\n",
        "\n",
        "## Types of Collaborative Filtering\n",
        "* **User-Based CF:** Recommends items to a user based on the preferences of similar users.\n",
        "\n",
        "* **Item-Based CF:** Recommends items similar to the ones the user already liked.\n",
        "\n",
        "* **Model-Based CF:** Uses machine learning models (e.g., matrix factorization, deep learning) to predict user-item interactions."
      ],
      "metadata": {
        "id": "BCsS5bsSlpxg"
      }
    },
    {
      "cell_type": "markdown",
      "source": [
        "## Dataset Description\n",
        "We'll use the MIND (Microsoft News Dataset), a large-scale dataset from Microsoft News, to implement and test our Collaborative Filtering (CF) approach. It includes:\n",
        "\n",
        "* User behavior logs (behaviors.tsv): Each row corresponds to an impression event, containing:\n",
        "\n",
        "  * User ID\n",
        "\n",
        "  * History of clicked news\n",
        "\n",
        "  * Impressions: list of candidate news articles with click labels (1 or 0)\n",
        "\n",
        "* News metadata (news.tsv): Each article includes:\n",
        "\n",
        "  * News ID\n",
        "\n",
        "  * Category and Subcategory\n",
        "\n",
        "  * Title and Abstract\n",
        "\n",
        "For CF, we'll focus on the interaction matrix between users and news articles based on click behavior, treating each (user, news) click as implicit feedback."
      ],
      "metadata": {
        "id": "pbcczlvD5Li3"
      }
    },
    {
      "cell_type": "code",
      "execution_count": null,
      "metadata": {
        "colab": {
          "base_uri": "https://localhost:8080/"
        },
        "id": "F7BUaqnTGyTu",
        "outputId": "61c4e441-b0cf-4b12-c0ef-76a95cfa38e2"
      },
      "outputs": [
        {
          "output_type": "stream",
          "name": "stdout",
          "text": [
            "Downloading from https://www.kaggle.com/api/v1/datasets/download/arashnic/mind-news-dataset?dataset_version_number=2...\n"
          ]
        },
        {
          "output_type": "stream",
          "name": "stderr",
          "text": [
            "100%|██████████| 61.7M/61.7M [00:00<00:00, 155MB/s]"
          ]
        },
        {
          "output_type": "stream",
          "name": "stdout",
          "text": [
            "Extracting files...\n"
          ]
        },
        {
          "output_type": "stream",
          "name": "stderr",
          "text": [
            "\n"
          ]
        },
        {
          "output_type": "stream",
          "name": "stdout",
          "text": [
            "Path to dataset files: /root/.cache/kagglehub/datasets/arashnic/mind-news-dataset/versions/2\n"
          ]
        }
      ],
      "source": [
        "import kagglehub\n",
        "\n",
        "# Download latest version\n",
        "path = kagglehub.dataset_download(\"arashnic/mind-news-dataset\")\n",
        "\n",
        "print(\"Path to dataset files:\", path)"
      ]
    },
    {
      "cell_type": "code",
      "source": [
        "import os\n",
        "import pandas as pd\n",
        "import numpy as np\n",
        "from sklearn.metrics.pairwise import cosine_similarity\n",
        "from collections import defaultdict\n",
        "from scipy.sparse import csr_matrix"
      ],
      "metadata": {
        "id": "9eag6HePgFrq"
      },
      "execution_count": null,
      "outputs": []
    },
    {
      "cell_type": "code",
      "source": [
        "# Load behaviors.tsv file into a DataFrame\n",
        "def load_behaviors(filepath):\n",
        "    behaviors = pd.read_csv(filepath, sep='\\t', header=None,\n",
        "                            names=['Impression_ID', 'User_ID', 'Time', 'History', 'Impressions'])\n",
        "\n",
        "    sampled_users = behaviors[\"User_ID\"].drop_duplicates().sample(n=10000, random_state=42)\n",
        "    behaviors = behaviors[behaviors[\"User_ID\"].isin(sampled_users)]\n",
        "    behaviors.fillna(\"\", inplace=True)\n",
        "    return behaviors\n",
        "\n",
        "# Build user-item interaction matrix from behaviors data\n",
        "def build_interaction_matrix(behaviors):\n",
        "    users, news_list, rows, cols = {}, {}, [], []\n",
        "    user_counter, news_counter = 0, 0\n",
        "\n",
        "    for _, row in behaviors.iterrows():\n",
        "        user = row['User_ID']\n",
        "        if user not in users:\n",
        "            users[user] = user_counter\n",
        "            user_counter += 1\n",
        "\n",
        "        # Process each impression to extract news ID and whether it was clicked\n",
        "        impressions = row['Impressions'].split()\n",
        "        for imp in impressions:\n",
        "            news_id, clicked = imp.split('-')\n",
        "            if news_id not in news_list:\n",
        "                news_list[news_id] = news_counter\n",
        "                news_counter += 1\n",
        "\n",
        "            if clicked == '1':  # Store only clicked interactions\n",
        "                rows.append(users[user])\n",
        "                cols.append(news_list[news_id])\n",
        "\n",
        "    data = np.ones(len(rows), dtype=np.int8)  # Use ones for interactions\n",
        "    interaction_matrix = csr_matrix((data, (rows, cols)), shape=(len(users), len(news_list)))\n",
        "    return interaction_matrix, list(users.keys()), list(news_list.keys())"
      ],
      "metadata": {
        "id": "6p9LwNti4sE2"
      },
      "execution_count": null,
      "outputs": []
    },
    {
      "cell_type": "code",
      "source": [
        "class CollaborativeFilteringRecommender:\n",
        "    def __init__(self, behaviors, interaction_matrix, users, news_list, method=\"user\", top_n=5):\n",
        "        self.interaction_matrix = interaction_matrix\n",
        "        self.users = users\n",
        "        self.news_list = news_list\n",
        "        self.method = method\n",
        "        self.top_n = top_n\n",
        "        self.similarity_matrix = self.compute_similarity()\n",
        "\n",
        "    # Compute similarity matrix\n",
        "    def compute_similarity(self):\n",
        "        if self.method == \"user\":\n",
        "          # Compute user similarity\n",
        "            return cosine_similarity(self.interaction_matrix)\n",
        "        elif self.method == \"item\":\n",
        "            # Compute item similarity\n",
        "            return cosine_similarity(self.interaction_matrix.T) # Transpose to compute item-item similarity\n",
        "\n",
        "    # Generate recommendations for a user\n",
        "    def recommend(self, user_id):\n",
        "        if user_id not in self.users:\n",
        "            return []\n",
        "\n",
        "        user_idx = self.users.index(user_id)\n",
        "        if self.method == \"user\":\n",
        "            similar_users = np.argsort(-self.similarity_matrix[user_idx])[1:6]\n",
        "            recommended_news = set()\n",
        "            for similar_user in similar_users:\n",
        "                similar_user_news = set(self.interaction_matrix[similar_user].indices)\n",
        "                recommended_news.update(similar_user_news)\n",
        "            user_news = set(self.interaction_matrix[user_idx].indices)\n",
        "        else:\n",
        "            user_interactions = interaction_matrix[user_idx, :]  # Get interactions of the user\n",
        "            # Compute recommendation scores for items based on the user's past interactions and item similarities\n",
        "            scores = user_interactions.dot(self.similarity_matrix).flatten()\n",
        "            interacted_items = set(user_interactions.indices)\n",
        "            recommended_news = [i for i in np.argsort(-scores) if i not in interacted_items]\n",
        "\n",
        "        return [self.news_list[i] for i in list(recommended_news)[:self.top_n]]\n"
      ],
      "metadata": {
        "id": "fy5Ee_XT3YU3"
      },
      "execution_count": null,
      "outputs": []
    },
    {
      "cell_type": "code",
      "source": [
        "behaviors = load_behaviors(os.path.join(path, \"MINDsmall_train\", \"behaviors.tsv\"))\n",
        "interaction_matrix, users, news_list = build_interaction_matrix(behaviors)"
      ],
      "metadata": {
        "id": "jBR-LXyj5kNi"
      },
      "execution_count": null,
      "outputs": []
    },
    {
      "cell_type": "code",
      "source": [
        "# Initialize recommender for user-based and item-based filtering\n",
        "user_cf = CollaborativeFilteringRecommender(behaviors, interaction_matrix, users, news_list, method=\"user\")\n",
        "item_cf = CollaborativeFilteringRecommender(behaviors, interaction_matrix, users, news_list, method=\"item\")"
      ],
      "metadata": {
        "id": "DHYUIHQU3aeh"
      },
      "execution_count": null,
      "outputs": []
    },
    {
      "cell_type": "code",
      "source": [
        "# Get recommendations for a sample user\n",
        "sample_user_id = user_cf.users[0]\n",
        "print(f\"User-Based CF Recommendations for user {sample_user_id}: {user_cf.recommend(sample_user_id)}\")\n",
        "print(f\"Item-Based CF Recommendations for user {sample_user_id}:  {item_cf.recommend(sample_user_id)}\")"
      ],
      "metadata": {
        "colab": {
          "base_uri": "https://localhost:8080/"
        },
        "id": "lao7rz_n3cOT",
        "outputId": "242bd607-878a-4bea-cb84-55f1bfef95cc"
      },
      "execution_count": null,
      "outputs": [
        {
          "output_type": "stream",
          "name": "stdout",
          "text": [
            "User-Based CF Recommendations for user U8125: ['N8595', 'N8400', 'N60445', 'N10859', 'N3663']\n",
            "Item-Based CF Recommendations for user U8125:  ['N10859', 'N9836', 'N58549', 'N64858', 'N8595']\n"
          ]
        }
      ]
    },
    {
      "cell_type": "markdown",
      "source": [
        "## Matrix Factorization\n",
        "\n",
        "Matrix Factorization (MF) is one of the most widely used techniques in Collaborative Filtering for recommendation systems. It decomposes the large, sparse user-item interaction matrix into the product of two lower-dimensional matrices:\n",
        "\n",
        "$$\n",
        "R \\approx U \\cdot V^T\n",
        "$$\n",
        "\n",
        "- **$ R $**: Original user-item interaction matrix (e.g., clicks, ratings).\n",
        "- **$ U \\in \\mathbb{R}^{n \\times k} $**: Latent matrix representing *users*.\n",
        "- **$ V \\in \\mathbb{R}^{m \\times k} $**: Latent matrix representing *items* (e.g., news articles).\n",
        "- **$ k $**: Number of latent features (a tunable hyperparameter).\n",
        "\n",
        "The goal is to learn latent vectors for users and items such that the **dot product** between a user's vector and an item's vector approximates the observed interaction. These latent representations capture hidden preferences and properties that aren't explicitly available in the dataset.\n",
        "\n",
        "#### 🔧 Training Objective\n",
        "\n",
        "We optimize the latent vectors by minimizing the difference between predicted and actual interactions:\n",
        "\n",
        "$$\n",
        "\\mathcal{L} = \\sum_{(u,i) \\in \\text{observed}} (R_{ui} - \\hat{R}_{ui})^2 + \\lambda(\\|U_u\\|^2 + \\|V_i\\|^2)\n",
        "$$\n",
        "\n",
        "- **$ \\hat{R}_{ui} = U_u \\cdot V_i^T $**: Predicted interaction score.\n",
        "- **$ \\lambda $**: Regularization parameter to prevent overfitting.\n",
        "\n",
        "In this notebook, we implement a matrix factorization recommender class that supports two popular techniques:\n",
        "\n",
        "- **SVD (Singular Value Decomposition)**: A linear dimensionality reduction method for decomposing the interaction matrix.\n",
        "- **ALS (Alternating Least Squares)**: A scalable algorithm particularly suited for implicit feedback like clicks.\n"
      ],
      "metadata": {
        "id": "oPo0E7O-eM0R"
      }
    },
    {
      "cell_type": "code",
      "source": [
        "!pip install implicit"
      ],
      "metadata": {
        "colab": {
          "base_uri": "https://localhost:8080/"
        },
        "id": "1rY6USEY1k58",
        "outputId": "a3285920-28b7-417f-e059-d40b6a387722"
      },
      "execution_count": null,
      "outputs": [
        {
          "output_type": "stream",
          "name": "stdout",
          "text": [
            "Requirement already satisfied: implicit in /usr/local/lib/python3.11/dist-packages (0.7.2)\n",
            "Requirement already satisfied: numpy>=1.17.0 in /usr/local/lib/python3.11/dist-packages (from implicit) (2.0.2)\n",
            "Requirement already satisfied: scipy>=0.16 in /usr/local/lib/python3.11/dist-packages (from implicit) (1.14.1)\n",
            "Requirement already satisfied: tqdm>=4.27 in /usr/local/lib/python3.11/dist-packages (from implicit) (4.67.1)\n",
            "Requirement already satisfied: threadpoolctl in /usr/local/lib/python3.11/dist-packages (from implicit) (3.6.0)\n"
          ]
        }
      ]
    },
    {
      "cell_type": "code",
      "source": [
        "import pandas as pd\n",
        "import numpy as np\n",
        "from sklearn.decomposition import TruncatedSVD\n",
        "from scipy.sparse import csr_matrix\n",
        "from implicit.als import AlternatingLeastSquares"
      ],
      "metadata": {
        "id": "ZGELym25hhF1"
      },
      "execution_count": null,
      "outputs": []
    },
    {
      "cell_type": "code",
      "source": [
        "class MatrixFactorizationRecommender:\n",
        "    def __init__(self, behaviors, interaction_matrix, users, news_list, method=\"SVD\", n_components=20, iterations=15):\n",
        "        self.interaction_matrix = interaction_matrix\n",
        "        self.users = users\n",
        "        self.news_list = news_list\n",
        "        self.method = method\n",
        "        self.n_components = n_components\n",
        "        self.iterations = iterations\n",
        "        self.model = None\n",
        "        self.fit()\n",
        "\n",
        "\n",
        "    # Fit the selected matrix factorization model\n",
        "    def fit(self):\n",
        "        if self.method == \"SVD\":\n",
        "            self.model = TruncatedSVD(n_components=self.n_components)\n",
        "            self.model.fit(self.interaction_matrix)\n",
        "        elif self.method == \"ALS\":\n",
        "            self.model = AlternatingLeastSquares(factors=self.n_components, iterations=self.iterations)\n",
        "            self.model.fit(self.interaction_matrix.T)\n",
        "\n",
        "    # Generate recommendations for a given user\n",
        "    def recommend(self, user_id, top_n=5):\n",
        "        user_idx = self.users.index(user_id)\n",
        "\n",
        "        if self.method == \"SVD\":\n",
        "            svd_matrix = self.model.transform(self.interaction_matrix)\n",
        "            scores = svd_matrix[user_idx] @ self.model.components_  # Predict scores for all items\n",
        "        elif self.method == \"ALS\":\n",
        "            scores = self.model.recommend(user_idx, self.interaction_matrix[user_idx], N=top_n)\n",
        "            return [self.news_list[i[0]] for i in scores]\n",
        "\n",
        "        # Exclude already interacted items\n",
        "        interacted_items = set(self.interaction_matrix[user_idx].indices)\n",
        "        recommendations = [self.news_list[i] for i in np.argsort(-scores) if i not in interacted_items][:top_n]\n",
        "        return recommendations\n"
      ],
      "metadata": {
        "id": "TfWI6Cn2Gz7O"
      },
      "execution_count": null,
      "outputs": []
    },
    {
      "cell_type": "code",
      "source": [
        "behaviors = load_behaviors(os.path.join(path, \"MINDsmall_train\", \"behaviors.tsv\"))\n",
        "interaction_matrix, users, news_list = build_interaction_matrix(behaviors)"
      ],
      "metadata": {
        "id": "5tqoZ382Gzzt"
      },
      "execution_count": null,
      "outputs": []
    },
    {
      "cell_type": "code",
      "source": [
        "# Initialize recommender\n",
        "MFrecommender = MatrixFactorizationRecommender(behaviors, interaction_matrix[:1000, :1000], users, news_list, method=\"SVD\")"
      ],
      "metadata": {
        "id": "3p6IS_OQGz4o"
      },
      "execution_count": null,
      "outputs": []
    },
    {
      "cell_type": "code",
      "source": [
        "# Get recommendations for a sample user\n",
        "sample_user_id = MFrecommender.users[0]\n",
        "print(f\"Matrix Factorization Recommendations for user {sample_user_id}: {MFrecommender.recommend(sample_user_id)}\")"
      ],
      "metadata": {
        "id": "Iq5L5nLFGz2G",
        "colab": {
          "base_uri": "https://localhost:8080/"
        },
        "outputId": "5f0b6558-44dc-4a1f-d0cf-28970d3e7847"
      },
      "execution_count": null,
      "outputs": [
        {
          "output_type": "stream",
          "name": "stdout",
          "text": [
            "Matrix Factorization Recommendations for user U13740: ['N52622', 'N18708', 'N43502', 'N7821', 'N13930']\n"
          ]
        }
      ]
    }
  ]
}